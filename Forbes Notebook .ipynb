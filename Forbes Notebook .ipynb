{
 "cells": [
  {
   "cell_type": "markdown",
   "metadata": {},
   "source": [
    "## Apply pandas in Forbes dataset "
   ]
  },
  {
   "cell_type": "markdown",
   "metadata": {},
   "source": [
    "This description aims to illustrate the commands in Pandas. \n",
    "\n",
    "We'll work with a data set from Fortune magazine's 2017 Global 500 list, which ranks the top 500 corporations worldwide by revenue. The data set was originally compiled here; however, we modified the original data set to make it more accessible.\n",
    "\n",
    "Here is a data dictionary for some of the columns in the CSV:\n",
    "\n",
    "\n",
    "company: Name of the company.\n",
    "\n",
    "rank: Global 500 rank for the company.\n",
    "\n",
    "revenues: Company's total revenue for the fiscal year, in millions of dollars (USD).\n",
    "\n",
    "revenue_change: Percentage change in revenue between the current and prior fiscal year.\n",
    "\n",
    "profits: Net income for the fiscal year, in millions of dollars (USD).\n",
    "\n",
    "ceo: Company's Chief Executive Officer.\n",
    "\n",
    "industry: Industry in which the company operates.\n",
    "\n",
    "sector: Sector in which the company operates.\n",
    "\n",
    "previous_rank: Global 500 rank for the company for the prior year.\n",
    "\n",
    "country: Country in which the company is headquartered."
   ]
  },
  {
   "cell_type": "markdown",
   "metadata": {},
   "source": [
    "### 1. Import Pandas and read the dataset  "
   ]
  },
  {
   "cell_type": "code",
   "execution_count": 1,
   "metadata": {},
   "outputs": [],
   "source": [
    "import pandas as pd\n",
    "import numpy as np\n",
    "f500 = pd.read_csv('f500.csv',index_col=0)\n",
    "f500.index.name = None"
   ]
  },
  {
   "cell_type": "markdown",
   "metadata": {},
   "source": [
    "**Note: index-column**\n",
    "<br>\n",
    "<br>\n",
    "The index_col parameter is an optional argument and should specify which column to use as the row labels for the dataframe.\n",
    "<br>When we used a value of 0, we specified that we wanted to use the first column as the row labels.\n",
    "\n"
   ]
  },
  {
   "cell_type": "code",
   "execution_count": 2,
   "metadata": {},
   "outputs": [
    {
     "name": "stdout",
     "output_type": "stream",
     "text": [
      "                          rank  revenues  revenue_change  profits  assets  \\\n",
      "company                                                                     \n",
      "Walmart                      1    485873             0.8  13643.0  198825   \n",
      "State Grid                   2    315199            -4.4   9571.3  489838   \n",
      "Sinopec Group                3    267518            -9.1   1257.9  310726   \n",
      "China National Petroleum     4    262573           -12.3   1867.5  585619   \n",
      "Toyota Motor                 5    254694             7.7  16899.3  437575   \n",
      "\n",
      "                          profit_change                  ceo  \\\n",
      "company                                                        \n",
      "Walmart                            -7.2  C. Douglas McMillon   \n",
      "State Grid                         -6.2              Kou Wei   \n",
      "Sinopec Group                     -65.0            Wang Yupu   \n",
      "China National Petroleum          -73.7        Zhang Jianhua   \n",
      "Toyota Motor                      -12.3          Akio Toyoda   \n",
      "\n",
      "                                          industry                  sector  \\\n",
      "company                                                                      \n",
      "Walmart                      General Merchandisers               Retailing   \n",
      "State Grid                               Utilities                  Energy   \n",
      "Sinopec Group                   Petroleum Refining                  Energy   \n",
      "China National Petroleum        Petroleum Refining                  Energy   \n",
      "Toyota Motor              Motor Vehicles and Parts  Motor Vehicles & Parts   \n",
      "\n",
      "                          previous_rank country      hq_location  \\\n",
      "company                                                            \n",
      "Walmart                               1     USA  Bentonville, AR   \n",
      "State Grid                            2   China   Beijing, China   \n",
      "Sinopec Group                         4   China   Beijing, China   \n",
      "China National Petroleum              3   China   Beijing, China   \n",
      "Toyota Motor                          8   Japan    Toyota, Japan   \n",
      "\n",
      "                                               website  \\\n",
      "company                                                  \n",
      "Walmart                         http://www.walmart.com   \n",
      "State Grid                      http://www.sgcc.com.cn   \n",
      "Sinopec Group                   http://www.sinopec.com   \n",
      "China National Petroleum        http://www.cnpc.com.cn   \n",
      "Toyota Motor              http://www.toyota-global.com   \n",
      "\n",
      "                          years_on_global_500_list  employees  \\\n",
      "company                                                         \n",
      "Walmart                                         23    2300000   \n",
      "State Grid                                      17     926067   \n",
      "Sinopec Group                                   19     713288   \n",
      "China National Petroleum                        17    1512048   \n",
      "Toyota Motor                                    23     364445   \n",
      "\n",
      "                          total_stockholder_equity  \n",
      "company                                             \n",
      "Walmart                                      77798  \n",
      "State Grid                                  209456  \n",
      "Sinopec Group                               106523  \n",
      "China National Petroleum                    301893  \n",
      "Toyota Motor                                157210  \n"
     ]
    }
   ],
   "source": [
    "f500 = pd.read_csv('f500.csv',index_col=0)\n",
    "print(f500.head(5))"
   ]
  },
  {
   "cell_type": "markdown",
   "metadata": {},
   "source": [
    "In this case, the row label is by default the company name \n",
    "<br>\n",
    "<br>\n",
    "If we want to have number as index, then we shd take this optional argument out and the default index will exist again. \n",
    "<br> **This is more conventional way to read in a dataframe**"
   ]
  },
  {
   "cell_type": "code",
   "execution_count": 3,
   "metadata": {},
   "outputs": [
    {
     "name": "stdout",
     "output_type": "stream",
     "text": [
      "                            company  rank  revenues  revenue_change  profits  \\\n",
      "0                           Walmart     1    485873             0.8  13643.0   \n",
      "1                        State Grid     2    315199            -4.4   9571.3   \n",
      "2                     Sinopec Group     3    267518            -9.1   1257.9   \n",
      "3          China National Petroleum     4    262573           -12.3   1867.5   \n",
      "4                      Toyota Motor     5    254694             7.7  16899.3   \n",
      "..                              ...   ...       ...             ...      ...   \n",
      "495  Teva Pharmaceutical Industries   496     21903            11.5    329.0   \n",
      "496        New China Life Insurance   497     21796           -13.3    743.9   \n",
      "497       Wm. Morrison Supermarkets   498     21741           -11.3    406.4   \n",
      "498                             TUI   499     21655            -5.5   1151.7   \n",
      "499                      AutoNation   500     21609             3.6    430.5   \n",
      "\n",
      "     assets  profit_change                  ceo  \\\n",
      "0    198825           -7.2  C. Douglas McMillon   \n",
      "1    489838           -6.2              Kou Wei   \n",
      "2    310726          -65.0            Wang Yupu   \n",
      "3    585619          -73.7        Zhang Jianhua   \n",
      "4    437575          -12.3          Akio Toyoda   \n",
      "..      ...            ...                  ...   \n",
      "495   92890          -79.3    Yitzhak Peterburg   \n",
      "496  100609          -45.6             Wan Feng   \n",
      "497   11630           20.4       David T. Potts   \n",
      "498   16247          195.5    Friedrich Joussen   \n",
      "499   10060           -2.7   Michael J. Jackson   \n",
      "\n",
      "                            industry                  sector  previous_rank  \\\n",
      "0              General Merchandisers               Retailing              1   \n",
      "1                          Utilities                  Energy              2   \n",
      "2                 Petroleum Refining                  Energy              4   \n",
      "3                 Petroleum Refining                  Energy              3   \n",
      "4           Motor Vehicles and Parts  Motor Vehicles & Parts              8   \n",
      "..                               ...                     ...            ...   \n",
      "495                  Pharmaceuticals             Health Care              0   \n",
      "496  Insurance: Life, Health (stock)              Financials            427   \n",
      "497             Food and Drug Stores      Food & Drug Stores            437   \n",
      "498                  Travel Services       Business Services            467   \n",
      "499              Specialty Retailers               Retailing              0   \n",
      "\n",
      "     country           hq_location                       website  \\\n",
      "0        USA       Bentonville, AR        http://www.walmart.com   \n",
      "1      China        Beijing, China        http://www.sgcc.com.cn   \n",
      "2      China        Beijing, China        http://www.sinopec.com   \n",
      "3      China        Beijing, China        http://www.cnpc.com.cn   \n",
      "4      Japan         Toyota, Japan  http://www.toyota-global.com   \n",
      "..       ...                   ...                           ...   \n",
      "495   Israel  Petach Tikva, Israel      http://www.tevapharm.com   \n",
      "496    China        Beijing, China   http://www.newchinalife.com   \n",
      "497  Britain     Bradford, Britain      http://www.morrisons.com   \n",
      "498  Germany      Hanover, Germany       http://www.tuigroup.com   \n",
      "499      USA   Fort Lauderdale, FL     http://www.autonation.com   \n",
      "\n",
      "     years_on_global_500_list  employees  total_stockholder_equity  \n",
      "0                          23    2300000                     77798  \n",
      "1                          17     926067                    209456  \n",
      "2                          19     713288                    106523  \n",
      "3                          17    1512048                    301893  \n",
      "4                          23     364445                    157210  \n",
      "..                        ...        ...                       ...  \n",
      "495                         1      56960                     33337  \n",
      "496                         2      54378                      8507  \n",
      "497                        13      77210                      5111  \n",
      "498                        23      66779                      3006  \n",
      "499                        12      26000                      2310  \n",
      "\n",
      "[500 rows x 17 columns]\n"
     ]
    }
   ],
   "source": [
    "f500_head = pd.read_csv(\"f500.csv\")\n",
    "print(f500_head)"
   ]
  },
  {
   "cell_type": "markdown",
   "metadata": {},
   "source": [
    "### 2. Data overview "
   ]
  },
  {
   "cell_type": "code",
   "execution_count": 4,
   "metadata": {},
   "outputs": [
    {
     "name": "stdout",
     "output_type": "stream",
     "text": [
      "<class 'pandas.core.frame.DataFrame'>\n"
     ]
    }
   ],
   "source": [
    "f500_type = type(f500)\n",
    "print(f500_type)"
   ]
  },
  {
   "cell_type": "code",
   "execution_count": 5,
   "metadata": {},
   "outputs": [
    {
     "name": "stdout",
     "output_type": "stream",
     "text": [
      "(500, 16)\n"
     ]
    }
   ],
   "source": [
    "# See how many rows and columns in the dataframe\n",
    "f500_shape = f500.shape\n",
    "print(f500_shape)"
   ]
  },
  {
   "cell_type": "code",
   "execution_count": 6,
   "metadata": {},
   "outputs": [
    {
     "name": "stdout",
     "output_type": "stream",
     "text": [
      "                          rank  revenues  revenue_change  profits  assets  \\\n",
      "company                                                                     \n",
      "Walmart                      1    485873             0.8  13643.0  198825   \n",
      "State Grid                   2    315199            -4.4   9571.3  489838   \n",
      "Sinopec Group                3    267518            -9.1   1257.9  310726   \n",
      "China National Petroleum     4    262573           -12.3   1867.5  585619   \n",
      "Toyota Motor                 5    254694             7.7  16899.3  437575   \n",
      "Volkswagen                   6    240264             1.5   5937.3  432116   \n",
      "\n",
      "                          profit_change                  ceo  \\\n",
      "company                                                        \n",
      "Walmart                            -7.2  C. Douglas McMillon   \n",
      "State Grid                         -6.2              Kou Wei   \n",
      "Sinopec Group                     -65.0            Wang Yupu   \n",
      "China National Petroleum          -73.7        Zhang Jianhua   \n",
      "Toyota Motor                      -12.3          Akio Toyoda   \n",
      "Volkswagen                          NaN      Matthias Muller   \n",
      "\n",
      "                                          industry                  sector  \\\n",
      "company                                                                      \n",
      "Walmart                      General Merchandisers               Retailing   \n",
      "State Grid                               Utilities                  Energy   \n",
      "Sinopec Group                   Petroleum Refining                  Energy   \n",
      "China National Petroleum        Petroleum Refining                  Energy   \n",
      "Toyota Motor              Motor Vehicles and Parts  Motor Vehicles & Parts   \n",
      "Volkswagen                Motor Vehicles and Parts  Motor Vehicles & Parts   \n",
      "\n",
      "                          previous_rank  country         hq_location  \\\n",
      "company                                                                \n",
      "Walmart                               1      USA     Bentonville, AR   \n",
      "State Grid                            2    China      Beijing, China   \n",
      "Sinopec Group                         4    China      Beijing, China   \n",
      "China National Petroleum              3    China      Beijing, China   \n",
      "Toyota Motor                          8    Japan       Toyota, Japan   \n",
      "Volkswagen                            7  Germany  Wolfsburg, Germany   \n",
      "\n",
      "                                               website  \\\n",
      "company                                                  \n",
      "Walmart                         http://www.walmart.com   \n",
      "State Grid                      http://www.sgcc.com.cn   \n",
      "Sinopec Group                   http://www.sinopec.com   \n",
      "China National Petroleum        http://www.cnpc.com.cn   \n",
      "Toyota Motor              http://www.toyota-global.com   \n",
      "Volkswagen                   http://www.volkswagen.com   \n",
      "\n",
      "                          years_on_global_500_list  employees  \\\n",
      "company                                                         \n",
      "Walmart                                         23    2300000   \n",
      "State Grid                                      17     926067   \n",
      "Sinopec Group                                   19     713288   \n",
      "China National Petroleum                        17    1512048   \n",
      "Toyota Motor                                    23     364445   \n",
      "Volkswagen                                      23     626715   \n",
      "\n",
      "                          total_stockholder_equity  \n",
      "company                                             \n",
      "Walmart                                      77798  \n",
      "State Grid                                  209456  \n",
      "Sinopec Group                               106523  \n",
      "China National Petroleum                    301893  \n",
      "Toyota Motor                                157210  \n",
      "Volkswagen                                   97753  \n"
     ]
    }
   ],
   "source": [
    "f500_head = f500.head(6)\n",
    "print(f500_head)"
   ]
  },
  {
   "cell_type": "code",
   "execution_count": 7,
   "metadata": {},
   "outputs": [
    {
     "name": "stdout",
     "output_type": "stream",
     "text": [
      "<class 'pandas.core.frame.DataFrame'>\n",
      "Index: 500 entries, Walmart to AutoNation\n",
      "Data columns (total 16 columns):\n",
      "rank                        500 non-null int64\n",
      "revenues                    500 non-null int64\n",
      "revenue_change              498 non-null float64\n",
      "profits                     499 non-null float64\n",
      "assets                      500 non-null int64\n",
      "profit_change               436 non-null float64\n",
      "ceo                         500 non-null object\n",
      "industry                    500 non-null object\n",
      "sector                      500 non-null object\n",
      "previous_rank               500 non-null int64\n",
      "country                     500 non-null object\n",
      "hq_location                 500 non-null object\n",
      "website                     500 non-null object\n",
      "years_on_global_500_list    500 non-null int64\n",
      "employees                   500 non-null int64\n",
      "total_stockholder_equity    500 non-null int64\n",
      "dtypes: float64(3), int64(7), object(6)\n",
      "memory usage: 66.4+ KB\n",
      "None\n"
     ]
    }
   ],
   "source": [
    "# See the datatype of each rows\n",
    "print(f500.info())"
   ]
  },
  {
   "cell_type": "markdown",
   "metadata": {},
   "source": [
    "### 3.Select  and assign data"
   ]
  },
  {
   "cell_type": "markdown",
   "metadata": {},
   "source": [
    "**3.1 Select a single column**"
   ]
  },
  {
   "cell_type": "code",
   "execution_count": 8,
   "metadata": {},
   "outputs": [
    {
     "data": {
      "text/plain": [
       "company\n",
       "Walmart                       USA\n",
       "State Grid                  China\n",
       "Sinopec Group               China\n",
       "China National Petroleum    China\n",
       "Toyota Motor                Japan\n",
       "Name: country, dtype: object"
      ]
     },
     "execution_count": 8,
     "metadata": {},
     "output_type": "execute_result"
    }
   ],
   "source": [
    "countries = f500[\"country\"]\n",
    "countries.head(5)"
   ]
  },
  {
   "cell_type": "markdown",
   "metadata": {},
   "source": [
    "**3.2 Select a list of columns** "
   ]
  },
  {
   "cell_type": "code",
   "execution_count": 9,
   "metadata": {},
   "outputs": [
    {
     "data": {
      "text/html": [
       "<div>\n",
       "<style scoped>\n",
       "    .dataframe tbody tr th:only-of-type {\n",
       "        vertical-align: middle;\n",
       "    }\n",
       "\n",
       "    .dataframe tbody tr th {\n",
       "        vertical-align: top;\n",
       "    }\n",
       "\n",
       "    .dataframe thead th {\n",
       "        text-align: right;\n",
       "    }\n",
       "</style>\n",
       "<table border=\"1\" class=\"dataframe\">\n",
       "  <thead>\n",
       "    <tr style=\"text-align: right;\">\n",
       "      <th></th>\n",
       "      <th>revenues</th>\n",
       "      <th>years_on_global_500_list</th>\n",
       "    </tr>\n",
       "    <tr>\n",
       "      <th>company</th>\n",
       "      <th></th>\n",
       "      <th></th>\n",
       "    </tr>\n",
       "  </thead>\n",
       "  <tbody>\n",
       "    <tr>\n",
       "      <td>Walmart</td>\n",
       "      <td>485873</td>\n",
       "      <td>23</td>\n",
       "    </tr>\n",
       "    <tr>\n",
       "      <td>State Grid</td>\n",
       "      <td>315199</td>\n",
       "      <td>17</td>\n",
       "    </tr>\n",
       "    <tr>\n",
       "      <td>Sinopec Group</td>\n",
       "      <td>267518</td>\n",
       "      <td>19</td>\n",
       "    </tr>\n",
       "    <tr>\n",
       "      <td>China National Petroleum</td>\n",
       "      <td>262573</td>\n",
       "      <td>17</td>\n",
       "    </tr>\n",
       "    <tr>\n",
       "      <td>Toyota Motor</td>\n",
       "      <td>254694</td>\n",
       "      <td>23</td>\n",
       "    </tr>\n",
       "  </tbody>\n",
       "</table>\n",
       "</div>"
      ],
      "text/plain": [
       "                          revenues  years_on_global_500_list\n",
       "company                                                     \n",
       "Walmart                     485873                        23\n",
       "State Grid                  315199                        17\n",
       "Sinopec Group               267518                        19\n",
       "China National Petroleum    262573                        17\n",
       "Toyota Motor                254694                        23"
      ]
     },
     "execution_count": 9,
     "metadata": {},
     "output_type": "execute_result"
    }
   ],
   "source": [
    "revenue_years = f500[[\"revenues\", \"years_on_global_500_list\"]]\n",
    "revenue_years.head(5)"
   ]
  },
  {
   "cell_type": "markdown",
   "metadata": {},
   "source": [
    "**3.3 Select a slice of columns e.g from column4 to column7.**\n",
    "\n",
    "*Important concept: for 3.1 and 3.2, the command are shorthand version of df.loc[[]] e.g f500.loc[:,[\"revenues\", \"years_on_global_500_list\"]]\n",
    "\n",
    "\n",
    "For slicing column, there is no shorthand version and therefore df.loc must be used. \n",
    "The reason is, the shorthand version for slicing is for rows, not for columns "
   ]
  },
  {
   "cell_type": "code",
   "execution_count": 10,
   "metadata": {},
   "outputs": [
    {
     "data": {
      "text/html": [
       "<div>\n",
       "<style scoped>\n",
       "    .dataframe tbody tr th:only-of-type {\n",
       "        vertical-align: middle;\n",
       "    }\n",
       "\n",
       "    .dataframe tbody tr th {\n",
       "        vertical-align: top;\n",
       "    }\n",
       "\n",
       "    .dataframe thead th {\n",
       "        text-align: right;\n",
       "    }\n",
       "</style>\n",
       "<table border=\"1\" class=\"dataframe\">\n",
       "  <thead>\n",
       "    <tr style=\"text-align: right;\">\n",
       "      <th></th>\n",
       "      <th>ceo</th>\n",
       "      <th>industry</th>\n",
       "      <th>sector</th>\n",
       "    </tr>\n",
       "    <tr>\n",
       "      <th>company</th>\n",
       "      <th></th>\n",
       "      <th></th>\n",
       "      <th></th>\n",
       "    </tr>\n",
       "  </thead>\n",
       "  <tbody>\n",
       "    <tr>\n",
       "      <td>Walmart</td>\n",
       "      <td>C. Douglas McMillon</td>\n",
       "      <td>General Merchandisers</td>\n",
       "      <td>Retailing</td>\n",
       "    </tr>\n",
       "    <tr>\n",
       "      <td>State Grid</td>\n",
       "      <td>Kou Wei</td>\n",
       "      <td>Utilities</td>\n",
       "      <td>Energy</td>\n",
       "    </tr>\n",
       "    <tr>\n",
       "      <td>Sinopec Group</td>\n",
       "      <td>Wang Yupu</td>\n",
       "      <td>Petroleum Refining</td>\n",
       "      <td>Energy</td>\n",
       "    </tr>\n",
       "    <tr>\n",
       "      <td>China National Petroleum</td>\n",
       "      <td>Zhang Jianhua</td>\n",
       "      <td>Petroleum Refining</td>\n",
       "      <td>Energy</td>\n",
       "    </tr>\n",
       "    <tr>\n",
       "      <td>Toyota Motor</td>\n",
       "      <td>Akio Toyoda</td>\n",
       "      <td>Motor Vehicles and Parts</td>\n",
       "      <td>Motor Vehicles &amp; Parts</td>\n",
       "    </tr>\n",
       "  </tbody>\n",
       "</table>\n",
       "</div>"
      ],
      "text/plain": [
       "                                          ceo                  industry  \\\n",
       "company                                                                   \n",
       "Walmart                   C. Douglas McMillon     General Merchandisers   \n",
       "State Grid                            Kou Wei                 Utilities   \n",
       "Sinopec Group                       Wang Yupu        Petroleum Refining   \n",
       "China National Petroleum        Zhang Jianhua        Petroleum Refining   \n",
       "Toyota Motor                      Akio Toyoda  Motor Vehicles and Parts   \n",
       "\n",
       "                                          sector  \n",
       "company                                           \n",
       "Walmart                                Retailing  \n",
       "State Grid                                Energy  \n",
       "Sinopec Group                             Energy  \n",
       "China National Petroleum                  Energy  \n",
       "Toyota Motor              Motor Vehicles & Parts  "
      ]
     },
     "execution_count": 10,
     "metadata": {},
     "output_type": "execute_result"
    }
   ],
   "source": [
    "ceo_to_sector = f500.loc[:, \"ceo\":\"sector\"]\n",
    "ceo_to_sector.head(5)"
   ]
  },
  {
   "cell_type": "code",
   "execution_count": 11,
   "metadata": {},
   "outputs": [
    {
     "data": {
      "text/html": [
       "<div>\n",
       "<style scoped>\n",
       "    .dataframe tbody tr th:only-of-type {\n",
       "        vertical-align: middle;\n",
       "    }\n",
       "\n",
       "    .dataframe tbody tr th {\n",
       "        vertical-align: top;\n",
       "    }\n",
       "\n",
       "    .dataframe thead th {\n",
       "        text-align: right;\n",
       "    }\n",
       "</style>\n",
       "<table border=\"1\" class=\"dataframe\">\n",
       "  <thead>\n",
       "    <tr style=\"text-align: right;\">\n",
       "      <th></th>\n",
       "      <th>rank</th>\n",
       "      <th>revenues</th>\n",
       "      <th>revenue_change</th>\n",
       "      <th>profits</th>\n",
       "      <th>assets</th>\n",
       "      <th>profit_change</th>\n",
       "      <th>ceo</th>\n",
       "      <th>industry</th>\n",
       "      <th>sector</th>\n",
       "      <th>previous_rank</th>\n",
       "      <th>country</th>\n",
       "    </tr>\n",
       "    <tr>\n",
       "      <th>company</th>\n",
       "      <th></th>\n",
       "      <th></th>\n",
       "      <th></th>\n",
       "      <th></th>\n",
       "      <th></th>\n",
       "      <th></th>\n",
       "      <th></th>\n",
       "      <th></th>\n",
       "      <th></th>\n",
       "      <th></th>\n",
       "      <th></th>\n",
       "    </tr>\n",
       "  </thead>\n",
       "  <tbody>\n",
       "    <tr>\n",
       "      <td>Tata Motors</td>\n",
       "      <td>247</td>\n",
       "      <td>40329</td>\n",
       "      <td>-4.2</td>\n",
       "      <td>1111.6</td>\n",
       "      <td>42162</td>\n",
       "      <td>-34.0</td>\n",
       "      <td>Guenter Butschek</td>\n",
       "      <td>Motor Vehicles and Parts</td>\n",
       "      <td>Motor Vehicles &amp; Parts</td>\n",
       "      <td>226</td>\n",
       "      <td>India</td>\n",
       "    </tr>\n",
       "    <tr>\n",
       "      <td>Aluminum Corp. of China</td>\n",
       "      <td>248</td>\n",
       "      <td>40278</td>\n",
       "      <td>6.0</td>\n",
       "      <td>-282.5</td>\n",
       "      <td>75089</td>\n",
       "      <td>NaN</td>\n",
       "      <td>Yu Dehui</td>\n",
       "      <td>Metals</td>\n",
       "      <td>Materials</td>\n",
       "      <td>262</td>\n",
       "      <td>China</td>\n",
       "    </tr>\n",
       "    <tr>\n",
       "      <td>Mitsui</td>\n",
       "      <td>249</td>\n",
       "      <td>40275</td>\n",
       "      <td>1.6</td>\n",
       "      <td>2825.3</td>\n",
       "      <td>103231</td>\n",
       "      <td>NaN</td>\n",
       "      <td>Tatsuo Yasunaga</td>\n",
       "      <td>Trading</td>\n",
       "      <td>Wholesalers</td>\n",
       "      <td>245</td>\n",
       "      <td>Japan</td>\n",
       "    </tr>\n",
       "    <tr>\n",
       "      <td>Manulife Financial</td>\n",
       "      <td>250</td>\n",
       "      <td>40238</td>\n",
       "      <td>49.4</td>\n",
       "      <td>2209.7</td>\n",
       "      <td>537461</td>\n",
       "      <td>28.9</td>\n",
       "      <td>Donald A. Guloien</td>\n",
       "      <td>Insurance: Life, Health (stock)</td>\n",
       "      <td>Financials</td>\n",
       "      <td>394</td>\n",
       "      <td>Canada</td>\n",
       "    </tr>\n",
       "    <tr>\n",
       "      <td>China Minsheng Banking</td>\n",
       "      <td>251</td>\n",
       "      <td>40234</td>\n",
       "      <td>-5.2</td>\n",
       "      <td>7201.6</td>\n",
       "      <td>848389</td>\n",
       "      <td>-1.8</td>\n",
       "      <td>Zheng Wanchun</td>\n",
       "      <td>Banks: Commercial and Savings</td>\n",
       "      <td>Financials</td>\n",
       "      <td>221</td>\n",
       "      <td>China</td>\n",
       "    </tr>\n",
       "  </tbody>\n",
       "</table>\n",
       "</div>"
      ],
      "text/plain": [
       "                         rank  revenues  revenue_change  profits  assets  \\\n",
       "company                                                                    \n",
       "Tata Motors               247     40329            -4.2   1111.6   42162   \n",
       "Aluminum Corp. of China   248     40278             6.0   -282.5   75089   \n",
       "Mitsui                    249     40275             1.6   2825.3  103231   \n",
       "Manulife Financial        250     40238            49.4   2209.7  537461   \n",
       "China Minsheng Banking    251     40234            -5.2   7201.6  848389   \n",
       "\n",
       "                         profit_change                ceo  \\\n",
       "company                                                     \n",
       "Tata Motors                      -34.0   Guenter Butschek   \n",
       "Aluminum Corp. of China            NaN           Yu Dehui   \n",
       "Mitsui                             NaN    Tatsuo Yasunaga   \n",
       "Manulife Financial                28.9  Donald A. Guloien   \n",
       "China Minsheng Banking            -1.8      Zheng Wanchun   \n",
       "\n",
       "                                                industry  \\\n",
       "company                                                    \n",
       "Tata Motors                     Motor Vehicles and Parts   \n",
       "Aluminum Corp. of China                           Metals   \n",
       "Mitsui                                           Trading   \n",
       "Manulife Financial       Insurance: Life, Health (stock)   \n",
       "China Minsheng Banking     Banks: Commercial and Savings   \n",
       "\n",
       "                                         sector  previous_rank country  \n",
       "company                                                                 \n",
       "Tata Motors              Motor Vehicles & Parts            226   India  \n",
       "Aluminum Corp. of China               Materials            262   China  \n",
       "Mitsui                              Wholesalers            245   Japan  \n",
       "Manulife Financial                   Financials            394  Canada  \n",
       "China Minsheng Banking               Financials            221   China  "
      ]
     },
     "execution_count": 11,
     "metadata": {},
     "output_type": "execute_result"
    }
   ],
   "source": [
    "# slice with row and column ranges\n",
    "middle_companies = f500.loc[\"Tata Motors\" : \"Nationwide\", \"rank\":\"country\"]\n",
    "middle_companies.head(5)"
   ]
  },
  {
   "cell_type": "markdown",
   "metadata": {},
   "source": [
    "**Important concept:** \n",
    "\n",
    "- For the shorthand version, most of them only apply to columns/singal item in a series. \n",
    "- For extracting single rows, list of rows or slice of rows -- need to use the df.loc[] function \n",
    "\n",
    "e.g \n",
    "\n",
    "df.loc[\"row4\"]\n",
    "\n",
    "df.loc[[\"row1\", \"row8\"]]\n",
    "\n",
    "df.loc[\"row3\":\"row5\"]"
   ]
  },
  {
   "cell_type": "markdown",
   "metadata": {},
   "source": [
    "**Important concept 2: loc vs iloc**\n",
    "\n",
    "- loc: label based selection\n",
    "- iloc: integer position based selection"
   ]
  },
  {
   "cell_type": "markdown",
   "metadata": {},
   "source": [
    "Example in using iloc"
   ]
  },
  {
   "cell_type": "code",
   "execution_count": 12,
   "metadata": {},
   "outputs": [
    {
     "name": "stdout",
     "output_type": "stream",
     "text": [
      "                   rank  revenues  revenue_change  profits  assets\n",
      "company                                                           \n",
      "Walmart               1    485873             0.8  13643.0  198825\n",
      "Royal Dutch Shell     7    240033           -11.8   4575.0  411275\n"
     ]
    }
   ],
   "source": [
    "first_seventh_row_slice = f500.iloc[[0,6], :5 ]\n",
    "print(first_seventh_row_slice)"
   ]
  },
  {
   "cell_type": "code",
   "execution_count": 13,
   "metadata": {},
   "outputs": [
    {
     "data": {
      "text/html": [
       "<div>\n",
       "<style scoped>\n",
       "    .dataframe tbody tr th:only-of-type {\n",
       "        vertical-align: middle;\n",
       "    }\n",
       "\n",
       "    .dataframe tbody tr th {\n",
       "        vertical-align: top;\n",
       "    }\n",
       "\n",
       "    .dataframe thead th {\n",
       "        text-align: right;\n",
       "    }\n",
       "</style>\n",
       "<table border=\"1\" class=\"dataframe\">\n",
       "  <thead>\n",
       "    <tr style=\"text-align: right;\">\n",
       "      <th></th>\n",
       "      <th>rank</th>\n",
       "      <th>revenues</th>\n",
       "      <th>revenue_change</th>\n",
       "      <th>profits</th>\n",
       "      <th>assets</th>\n",
       "      <th>profit_change</th>\n",
       "      <th>ceo</th>\n",
       "      <th>industry</th>\n",
       "      <th>sector</th>\n",
       "      <th>previous_rank</th>\n",
       "      <th>country</th>\n",
       "      <th>hq_location</th>\n",
       "      <th>website</th>\n",
       "      <th>years_on_global_500_list</th>\n",
       "      <th>employees</th>\n",
       "      <th>total_stockholder_equity</th>\n",
       "    </tr>\n",
       "    <tr>\n",
       "      <th>company</th>\n",
       "      <th></th>\n",
       "      <th></th>\n",
       "      <th></th>\n",
       "      <th></th>\n",
       "      <th></th>\n",
       "      <th></th>\n",
       "      <th></th>\n",
       "      <th></th>\n",
       "      <th></th>\n",
       "      <th></th>\n",
       "      <th></th>\n",
       "      <th></th>\n",
       "      <th></th>\n",
       "      <th></th>\n",
       "      <th></th>\n",
       "      <th></th>\n",
       "    </tr>\n",
       "  </thead>\n",
       "  <tbody>\n",
       "  </tbody>\n",
       "</table>\n",
       "</div>"
      ],
      "text/plain": [
       "Empty DataFrame\n",
       "Columns: [rank, revenues, revenue_change, profits, assets, profit_change, ceo, industry, sector, previous_rank, country, hq_location, website, years_on_global_500_list, employees, total_stockholder_equity]\n",
       "Index: []"
      ]
     },
     "execution_count": 13,
     "metadata": {},
     "output_type": "execute_result"
    }
   ],
   "source": [
    "null_previous_rank = f500[f500[\"previous_rank\"].isnull()]\n",
    "top5_null_prev_rank = null_previous_rank.iloc[0:5]\n",
    "top5_null_prev_rank"
   ]
  },
  {
   "cell_type": "code",
   "execution_count": 14,
   "metadata": {},
   "outputs": [],
   "source": [
    "previously_ranked = f500[f500[\"previous_rank\"].isnull() == False]\n",
    "rank_change = previously_ranked[\"previous_rank\"] - previously_ranked[\"rank\"] \n",
    "f500[\"rank_change\"] = rank_change"
   ]
  },
  {
   "cell_type": "markdown",
   "metadata": {},
   "source": [
    "#### 3.4 Select rows/columns with boolean indexing "
   ]
  },
  {
   "cell_type": "markdown",
   "metadata": {},
   "source": [
    "If we just want the values in column which fulfill some conditions in rows, we can use boolean indexing. \n",
    "\n",
    "For example, we want to know the company names and their headquarter for those in Motor Vehicles and Parts"
   ]
  },
  {
   "cell_type": "code",
   "execution_count": 15,
   "metadata": {},
   "outputs": [
    {
     "name": "stdout",
     "output_type": "stream",
     "text": [
      "company\n",
      "Toyota Motor                                 Japan\n",
      "Volkswagen                                 Germany\n",
      "Daimler                                    Germany\n",
      "General Motors                                 USA\n",
      "Ford Motor                                     USA\n",
      "Honda Motor                                  Japan\n",
      "SAIC Motor                                   China\n",
      "Nissan Motor                                 Japan\n",
      "BMW Group                                  Germany\n",
      "Dongfeng Motor                               China\n",
      "Robert Bosch                               Germany\n",
      "Hyundai Motor                          South Korea\n",
      "China FAW Group                              China\n",
      "Beijing Automotive Group                     China\n",
      "Peugeot                                     France\n",
      "Renault                                     France\n",
      "Kia Motors                             South Korea\n",
      "Continental                                Germany\n",
      "Denso                                        Japan\n",
      "Guangzhou Automobile Industry Group          China\n",
      "Tata Motors                                  India\n",
      "ZF Friedrichshafen                         Germany\n",
      "Jardine Matheson                             China\n",
      "Magna International                         Canada\n",
      "Volvo                                       Sweden\n",
      "Hyundai Mobis                          South Korea\n",
      "Aisin Seiki                                  Japan\n",
      "Zhejiang Geely Holding Group                 China\n",
      "Subaru                                       Japan\n",
      "Bridgestone                                  Japan\n",
      "Mazda Motor                                  Japan\n",
      "Suzuki Motor                                 Japan\n",
      "Sumitomo Electric Industries                 Japan\n",
      "Michelin                                    France\n",
      "Name: country, dtype: object\n"
     ]
    }
   ],
   "source": [
    "motor_bool = f500[\"industry\"] == \"Motor Vehicles and Parts\"\n",
    "motor_countries = f500.loc[motor_bool, \"country\"]\n",
    "print(motor_countries)"
   ]
  },
  {
   "cell_type": "code",
   "execution_count": 16,
   "metadata": {},
   "outputs": [
    {
     "data": {
      "text/html": [
       "<div>\n",
       "<style scoped>\n",
       "    .dataframe tbody tr th:only-of-type {\n",
       "        vertical-align: middle;\n",
       "    }\n",
       "\n",
       "    .dataframe tbody tr th {\n",
       "        vertical-align: top;\n",
       "    }\n",
       "\n",
       "    .dataframe thead th {\n",
       "        text-align: right;\n",
       "    }\n",
       "</style>\n",
       "<table border=\"1\" class=\"dataframe\">\n",
       "  <thead>\n",
       "    <tr style=\"text-align: right;\">\n",
       "      <th></th>\n",
       "      <th>rank</th>\n",
       "      <th>revenues</th>\n",
       "      <th>revenue_change</th>\n",
       "      <th>profits</th>\n",
       "      <th>assets</th>\n",
       "      <th>profit_change</th>\n",
       "      <th>ceo</th>\n",
       "      <th>industry</th>\n",
       "      <th>sector</th>\n",
       "      <th>previous_rank</th>\n",
       "      <th>country</th>\n",
       "      <th>hq_location</th>\n",
       "      <th>website</th>\n",
       "      <th>years_on_global_500_list</th>\n",
       "      <th>employees</th>\n",
       "      <th>total_stockholder_equity</th>\n",
       "      <th>rank_change</th>\n",
       "    </tr>\n",
       "    <tr>\n",
       "      <th>company</th>\n",
       "      <th></th>\n",
       "      <th></th>\n",
       "      <th></th>\n",
       "      <th></th>\n",
       "      <th></th>\n",
       "      <th></th>\n",
       "      <th></th>\n",
       "      <th></th>\n",
       "      <th></th>\n",
       "      <th></th>\n",
       "      <th></th>\n",
       "      <th></th>\n",
       "      <th></th>\n",
       "      <th></th>\n",
       "      <th></th>\n",
       "      <th></th>\n",
       "      <th></th>\n",
       "    </tr>\n",
       "  </thead>\n",
       "  <tbody>\n",
       "    <tr>\n",
       "      <td>Samsung Electronics</td>\n",
       "      <td>15</td>\n",
       "      <td>173957</td>\n",
       "      <td>-2.0</td>\n",
       "      <td>19316.5</td>\n",
       "      <td>217104</td>\n",
       "      <td>16.8</td>\n",
       "      <td>Oh-Hyun Kwon</td>\n",
       "      <td>Electronics, Electrical Equip.</td>\n",
       "      <td>Technology</td>\n",
       "      <td>13</td>\n",
       "      <td>South Korea</td>\n",
       "      <td>Suwon, South Korea</td>\n",
       "      <td>http://www.samsung.com</td>\n",
       "      <td>23</td>\n",
       "      <td>325000</td>\n",
       "      <td>154376</td>\n",
       "      <td>-2</td>\n",
       "    </tr>\n",
       "    <tr>\n",
       "      <td>Hon Hai Precision Industry</td>\n",
       "      <td>27</td>\n",
       "      <td>135129</td>\n",
       "      <td>-4.3</td>\n",
       "      <td>4608.8</td>\n",
       "      <td>80436</td>\n",
       "      <td>-0.4</td>\n",
       "      <td>Terry Gou</td>\n",
       "      <td>Electronics, Electrical Equip.</td>\n",
       "      <td>Technology</td>\n",
       "      <td>25</td>\n",
       "      <td>Taiwan</td>\n",
       "      <td>New Taipei City, Taiwan</td>\n",
       "      <td>http://www.foxconn.com</td>\n",
       "      <td>13</td>\n",
       "      <td>726772</td>\n",
       "      <td>33476</td>\n",
       "      <td>-2</td>\n",
       "    </tr>\n",
       "    <tr>\n",
       "      <td>Hitachi</td>\n",
       "      <td>71</td>\n",
       "      <td>84558</td>\n",
       "      <td>1.2</td>\n",
       "      <td>2134.3</td>\n",
       "      <td>86742</td>\n",
       "      <td>48.8</td>\n",
       "      <td>Toshiaki Higashihara</td>\n",
       "      <td>Electronics, Electrical Equip.</td>\n",
       "      <td>Technology</td>\n",
       "      <td>79</td>\n",
       "      <td>Japan</td>\n",
       "      <td>Tokyo, Japan</td>\n",
       "      <td>http://www.hitachi.com</td>\n",
       "      <td>23</td>\n",
       "      <td>303887</td>\n",
       "      <td>26632</td>\n",
       "      <td>8</td>\n",
       "    </tr>\n",
       "    <tr>\n",
       "      <td>Huawei Investment &amp; Holding</td>\n",
       "      <td>83</td>\n",
       "      <td>78511</td>\n",
       "      <td>24.9</td>\n",
       "      <td>5579.4</td>\n",
       "      <td>63837</td>\n",
       "      <td>-5.0</td>\n",
       "      <td>Ren Zhengfei</td>\n",
       "      <td>Network and Other Communications Equipment</td>\n",
       "      <td>Technology</td>\n",
       "      <td>129</td>\n",
       "      <td>China</td>\n",
       "      <td>Shenzhen, China</td>\n",
       "      <td>http://www.huawei.com</td>\n",
       "      <td>8</td>\n",
       "      <td>180000</td>\n",
       "      <td>20159</td>\n",
       "      <td>46</td>\n",
       "    </tr>\n",
       "    <tr>\n",
       "      <td>Sony</td>\n",
       "      <td>105</td>\n",
       "      <td>70170</td>\n",
       "      <td>3.9</td>\n",
       "      <td>676.4</td>\n",
       "      <td>158519</td>\n",
       "      <td>-45.1</td>\n",
       "      <td>Kazuo Hirai</td>\n",
       "      <td>Electronics, Electrical Equip.</td>\n",
       "      <td>Technology</td>\n",
       "      <td>113</td>\n",
       "      <td>Japan</td>\n",
       "      <td>Tokyo, Japan</td>\n",
       "      <td>http://www.sony.net</td>\n",
       "      <td>23</td>\n",
       "      <td>128400</td>\n",
       "      <td>22415</td>\n",
       "      <td>8</td>\n",
       "    </tr>\n",
       "  </tbody>\n",
       "</table>\n",
       "</div>"
      ],
      "text/plain": [
       "                             rank  revenues  revenue_change  profits  assets  \\\n",
       "company                                                                        \n",
       "Samsung Electronics            15    173957            -2.0  19316.5  217104   \n",
       "Hon Hai Precision Industry     27    135129            -4.3   4608.8   80436   \n",
       "Hitachi                        71     84558             1.2   2134.3   86742   \n",
       "Huawei Investment & Holding    83     78511            24.9   5579.4   63837   \n",
       "Sony                          105     70170             3.9    676.4  158519   \n",
       "\n",
       "                             profit_change                   ceo  \\\n",
       "company                                                            \n",
       "Samsung Electronics                   16.8          Oh-Hyun Kwon   \n",
       "Hon Hai Precision Industry            -0.4             Terry Gou   \n",
       "Hitachi                               48.8  Toshiaki Higashihara   \n",
       "Huawei Investment & Holding           -5.0          Ren Zhengfei   \n",
       "Sony                                 -45.1           Kazuo Hirai   \n",
       "\n",
       "                                                               industry  \\\n",
       "company                                                                   \n",
       "Samsung Electronics                      Electronics, Electrical Equip.   \n",
       "Hon Hai Precision Industry               Electronics, Electrical Equip.   \n",
       "Hitachi                                  Electronics, Electrical Equip.   \n",
       "Huawei Investment & Holding  Network and Other Communications Equipment   \n",
       "Sony                                     Electronics, Electrical Equip.   \n",
       "\n",
       "                                 sector  previous_rank      country  \\\n",
       "company                                                               \n",
       "Samsung Electronics          Technology             13  South Korea   \n",
       "Hon Hai Precision Industry   Technology             25       Taiwan   \n",
       "Hitachi                      Technology             79        Japan   \n",
       "Huawei Investment & Holding  Technology            129        China   \n",
       "Sony                         Technology            113        Japan   \n",
       "\n",
       "                                         hq_location                 website  \\\n",
       "company                                                                        \n",
       "Samsung Electronics               Suwon, South Korea  http://www.samsung.com   \n",
       "Hon Hai Precision Industry   New Taipei City, Taiwan  http://www.foxconn.com   \n",
       "Hitachi                                 Tokyo, Japan  http://www.hitachi.com   \n",
       "Huawei Investment & Holding          Shenzhen, China   http://www.huawei.com   \n",
       "Sony                                    Tokyo, Japan     http://www.sony.net   \n",
       "\n",
       "                             years_on_global_500_list  employees  \\\n",
       "company                                                            \n",
       "Samsung Electronics                                23     325000   \n",
       "Hon Hai Precision Industry                         13     726772   \n",
       "Hitachi                                            23     303887   \n",
       "Huawei Investment & Holding                         8     180000   \n",
       "Sony                                               23     128400   \n",
       "\n",
       "                             total_stockholder_equity  rank_change  \n",
       "company                                                             \n",
       "Samsung Electronics                            154376           -2  \n",
       "Hon Hai Precision Industry                      33476           -2  \n",
       "Hitachi                                         26632            8  \n",
       "Huawei Investment & Holding                     20159           46  \n",
       "Sony                                            22415            8  "
      ]
     },
     "execution_count": 16,
     "metadata": {},
     "output_type": "execute_result"
    }
   ],
   "source": [
    "brazil_venezuela = f500[(f500[\"country\"] == \"Brazil\") | (f500[\"country\"] == \"Venezuela\")]\n",
    "tech_outside_usa = f500[(f500[\"country\"] != \"USA\") & (f500[\"sector\"] == \"Technology\")]. head(5)\n",
    "\n",
    "tech_outside_usa"
   ]
  },
  {
   "cell_type": "markdown",
   "metadata": {},
   "source": [
    "Sorting example: Find the Japanese companies with most employees"
   ]
  },
  {
   "cell_type": "code",
   "execution_count": 18,
   "metadata": {},
   "outputs": [],
   "source": [
    "selected_rows = f500[f500[\"country\"] == \"Japan\"]\n",
    "sorted_rows = selected_rows.sort_values(\"employees\", ascending=False)\n",
    "top_japanese_employer = sorted_rows.iloc[0][\"ceo\"]"
   ]
  },
  {
   "cell_type": "markdown",
   "metadata": {},
   "source": [
    "#### 3.5 Value assignment in Pandas "
   ]
  },
  {
   "cell_type": "markdown",
   "metadata": {},
   "source": [
    "By providing labels for both axes, we can assign them to a single value within our dataframe. Example is as follows: "
   ]
  },
  {
   "cell_type": "code",
   "execution_count": null,
   "metadata": {},
   "outputs": [],
   "source": [
    "f500.loc[\"Dow Chemical\", \"ceo\"] = \"Jim Fitterling\""
   ]
  },
  {
   "cell_type": "markdown",
   "metadata": {},
   "source": [
    "### 4. Preliminary calculation"
   ]
  },
  {
   "cell_type": "markdown",
   "metadata": {},
   "source": [
    "**4.1 Value counts** \n",
    "\n",
    "To check the data and the distribution, the first aggregation that we can do is to count all values. That would help to explore the extreme/invalid values"
   ]
  },
  {
   "cell_type": "code",
   "execution_count": null,
   "metadata": {},
   "outputs": [],
   "source": [
    "countries = f500['country']\n",
    "country_counts = countries.value_counts()\n",
    "print(country_counts.head(5))"
   ]
  },
  {
   "cell_type": "markdown",
   "metadata": {},
   "source": [
    "We can also check the value for a certain value"
   ]
  },
  {
   "cell_type": "code",
   "execution_count": null,
   "metadata": {},
   "outputs": [],
   "source": [
    "north_americas = countries.value_counts()[[\"USA\", \"Canada\", \"Mexico\"]]\n",
    "print(north_americas)"
   ]
  },
  {
   "cell_type": "markdown",
   "metadata": {},
   "source": [
    "**We can even combine the boolean index mentioned above to see the value counts under certain conditions**\n",
    "\n",
    "We can select rows which fulfill a certain boolean condition, and count the value of the related\n",
    "\n",
    "For example, Count the sectors for companies in USA: "
   ]
  },
  {
   "cell_type": "code",
   "execution_count": null,
   "metadata": {},
   "outputs": [],
   "source": [
    "sector_USA = f500.loc[f500[\"country\"]==\"USA\", \"sector\"].value_counts().head(3)\n",
    "sector_USA"
   ]
  },
  {
   "cell_type": "code",
   "execution_count": null,
   "metadata": {},
   "outputs": [],
   "source": [
    "sector_Beij = f500.loc[f500[\"hq_location\"].str.contains(\"Beijing\"), \"sector\"].value_counts().head(3)\n",
    "sector_Beij"
   ]
  },
  {
   "cell_type": "markdown",
   "metadata": {},
   "source": [
    "**Extension function: Extract the index and export to a list**"
   ]
  },
  {
   "cell_type": "markdown",
   "metadata": {},
   "source": [
    "If we just need the index i.e country name, we can use value_counts.index() function "
   ]
  },
  {
   "cell_type": "code",
   "execution_count": null,
   "metadata": {},
   "outputs": [],
   "source": [
    "countryindex = country_counts.head(5).index\n",
    "print(countryindex)"
   ]
  },
  {
   "cell_type": "markdown",
   "metadata": {},
   "source": [
    "The result can be converted into a list as well:"
   ]
  },
  {
   "cell_type": "code",
   "execution_count": null,
   "metadata": {},
   "outputs": [],
   "source": [
    "listtotest = list(countryindex)\n",
    "listtotest"
   ]
  },
  {
   "cell_type": "markdown",
   "metadata": {},
   "source": [
    "### 5. Data manuplications and selection"
   ]
  },
  {
   "cell_type": "markdown",
   "metadata": {},
   "source": [
    "When we count the values in column \"previous_rank\": "
   ]
  },
  {
   "cell_type": "code",
   "execution_count": null,
   "metadata": {},
   "outputs": [],
   "source": [
    "f500[\"previous_rank\"].value_counts()"
   ]
  },
  {
   "cell_type": "markdown",
   "metadata": {},
   "source": [
    "We found that 0 is the most frequent value. In this case, it should be changed to NaN because those values with 0 means that those companies were not in the forbes before. "
   ]
  },
  {
   "cell_type": "code",
   "execution_count": null,
   "metadata": {},
   "outputs": [],
   "source": [
    "f500.loc[f500[\"previous_rank\"] == 0, \"previous_rank\"] = np.nan"
   ]
  },
  {
   "cell_type": "code",
   "execution_count": null,
   "metadata": {},
   "outputs": [],
   "source": [
    "f500[\"previous_rank\"].value_counts()"
   ]
  },
  {
   "cell_type": "markdown",
   "metadata": {},
   "source": [
    "### 6. Series calculation"
   ]
  },
  {
   "cell_type": "markdown",
   "metadata": {},
   "source": [
    "Pandas supports many descriptive stats methods that can help us to get the statistical information in a series such as max(). min(), mean() etc"
   ]
  },
  {
   "cell_type": "code",
   "execution_count": null,
   "metadata": {},
   "outputs": [],
   "source": [
    "# First is the vectorized operations i.e the operation applied to multiple data points at once:\n",
    "# Find out the difference in ranking last year and this year\n",
    "# Index will also be included in the result\n",
    "rank_change = f500[\"previous_rank\"] - f500[\"rank\"] \n",
    "rank_change"
   ]
  },
  {
   "cell_type": "markdown",
   "metadata": {},
   "source": [
    "Furthermore, we can use the statistical method to further investigate the data:"
   ]
  },
  {
   "cell_type": "code",
   "execution_count": null,
   "metadata": {},
   "outputs": [],
   "source": [
    "rank_change_max = rank_change.max()\n",
    "rank_change_min = rank_change.min()\n",
    "\n",
    "print(rank_change_max)\n",
    "print(rank_change_min)"
   ]
  },
  {
   "cell_type": "markdown",
   "metadata": {},
   "source": [
    "To get a quick overview of the data, we can use describe() to see basic statistical summary. \n",
    "\n",
    "The describe function can be applied to both series and dataframe."
   ]
  },
  {
   "cell_type": "code",
   "execution_count": null,
   "metadata": {},
   "outputs": [],
   "source": [
    "f500_desc = f500.describe()\n",
    "print(f500_desc)"
   ]
  },
  {
   "cell_type": "markdown",
   "metadata": {},
   "source": [
    "**Select all the countries and their top companies**"
   ]
  },
  {
   "cell_type": "code",
   "execution_count": null,
   "metadata": {},
   "outputs": [],
   "source": [
    "top_employer_by_country = {}\n",
    "countries = f500[\"country\"].unique()\n",
    "\n",
    "for rows in countries: \n",
    "    selected_rows = f500[f500[\"country\"] == rows]\n",
    "    sorted_rows = selected_rows.sort_values(\"employees\", ascending=False)\n",
    "    top_employer = sorted_rows.iloc[0]\n",
    "    employer_name = top_employer\n",
    "    top_employer_by_country[rows] = employer_name\n",
    "\n",
    "print(top_employer_by_country)"
   ]
  },
  {
   "cell_type": "markdown",
   "metadata": {},
   "source": []
  }
 ],
 "metadata": {
  "kernelspec": {
   "display_name": "Python 3",
   "language": "python",
   "name": "python3"
  },
  "language_info": {
   "codemirror_mode": {
    "name": "ipython",
    "version": 3
   },
   "file_extension": ".py",
   "mimetype": "text/x-python",
   "name": "python",
   "nbconvert_exporter": "python",
   "pygments_lexer": "ipython3",
   "version": "3.7.4"
  }
 },
 "nbformat": 4,
 "nbformat_minor": 2
}
